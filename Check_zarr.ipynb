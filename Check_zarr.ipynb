{
 "cells": [
  {
   "cell_type": "markdown",
   "id": "35b60a77-133a-4d45-9e4c-c95829c42b5c",
   "metadata": {},
   "source": [
    "# open, examine, and plot some variables from the zarr output \n",
    "\n",
    "- Relevant information summarized on the [PINACES RCE website](https://portal.nersc.gov/cfs/m1867/pinacles_docs/site/fields_zarr/)"
   ]
  },
  {
   "cell_type": "code",
   "execution_count": null,
   "id": "699bfb42-f668-4b7c-9dae-0a351a6bd7fc",
   "metadata": {
    "tags": []
   },
   "outputs": [],
   "source": [
    "import zarr\n",
    "import numpy as np\n",
    "\n",
    "import json\n",
    "import matplotlib.pyplot as plt\n"
   ]
  },
  {
   "cell_type": "markdown",
   "id": "7362119a-8e41-4d51-8acc-eea4ab67308a",
   "metadata": {},
   "source": [
    "### speciy the input file path"
   ]
  },
  {
   "cell_type": "code",
   "execution_count": null,
   "id": "77a99c99-ce6e-445e-8b9d-d43e65764e03",
   "metadata": {
    "tags": []
   },
   "outputs": [],
   "source": [
    "indir = '/pscratch/sd/w/wcmca1/PINACLES/rce/1km/run/test_1km_01'\n",
    "infile = 'fields.zarr'\n"
   ]
  },
  {
   "cell_type": "markdown",
   "id": "482bf3f1-a43e-478d-ada0-92e3baa13e6d",
   "metadata": {},
   "source": [
    "### open the file and check the meta data"
   ]
  },
  {
   "cell_type": "code",
   "execution_count": null,
   "id": "3065851b-697b-4027-a3de-59c2e9e579c6",
   "metadata": {
    "tags": []
   },
   "outputs": [],
   "source": [
    "zin = zarr.open((indir + '/' + infile), \"r\")\n",
    "\n",
    "zin.info"
   ]
  },
  {
   "cell_type": "markdown",
   "id": "f285bfe4-ac03-4cdf-8737-fdeb2c2189fc",
   "metadata": {},
   "source": [
    "### get the list of the variables as a dictionary\n",
    "- It has nested dictionaries/groups, corresponding to the same groups found in the stats.nc (and within the PINACLES source code in organizing variables into different categories, ScalarState, VelocityState, etc.)\n",
    "- There are four dictionaries for each variable group: dictionary for variable longname, for units, for longname in latex format, and one for the indecies within the zarr archive.\n",
    " "
   ]
  },
  {
   "cell_type": "code",
   "execution_count": null,
   "id": "d67dd5bf-806b-4e81-aff6-4e9902a4a136",
   "metadata": {
    "tags": []
   },
   "outputs": [],
   "source": [
    "with open((indir + '/' + infile + '/.zattrs')) as fp:\n",
    "    vardic = json.load(fp)\n",
    "    #print(json.load(fp))\n",
    "    "
   ]
  },
  {
   "cell_type": "code",
   "execution_count": null,
   "id": "b54d21d0-13c4-46fe-9054-b207bb4d8d79",
   "metadata": {
    "tags": []
   },
   "outputs": [],
   "source": [
    "print('long names of the ScalarState variables')\n",
    "vardic['ScalarState_long_names']\n",
    "print('Latex format name of the ScalarState variables')\n",
    "vardic['ScalarState_latex_name']\n",
    "print('Units of the ScalarState variables')\n",
    "vardic['ScalarState_units']\n",
    "print(\"zarr mapping index of the ScalarState variables (we probably don't need to know)\")\n",
    "vardic['ScalarState_variable_index_map']\n"
   ]
  },
  {
   "cell_type": "markdown",
   "id": "97a04ee7-b71b-4a06-9eb8-7d0c0c6ae0a4",
   "metadata": {},
   "source": [
    "### get coordinate variables (reading with the [:] colon index load them into memory)"
   ]
  },
  {
   "cell_type": "code",
   "execution_count": null,
   "id": "cc56a85d-da65-4d88-ab3c-986fd870a44a",
   "metadata": {
    "tags": []
   },
   "outputs": [],
   "source": [
    "time = zin[\"datetime\"][:]\n",
    "\n",
    "X = zin[\"X\"][:]\n",
    "Y = zin[\"Y\"][:]\n",
    "Z = zin[\"Z\"][:]\n",
    "\n"
   ]
  },
  {
   "cell_type": "markdown",
   "id": "f8cf7757-2798-4565-9b4b-912887729e22",
   "metadata": {},
   "source": [
    "### examine the ScalarState group and static energy variable"
   ]
  },
  {
   "cell_type": "code",
   "execution_count": null,
   "id": "35b83a18-db2a-4179-92bf-475fa0ef3579",
   "metadata": {
    "tags": []
   },
   "outputs": [],
   "source": [
    "igroup = 'ScalarState'\n",
    "invarname = 's'\n"
   ]
  },
  {
   "cell_type": "code",
   "execution_count": null,
   "id": "db11e893-18b9-40ea-9b0f-dcdb81d71f4d",
   "metadata": {
    "tags": []
   },
   "outputs": [],
   "source": [
    "group_info = zin[igroup].info\n",
    "group_info"
   ]
  },
  {
   "cell_type": "markdown",
   "id": "450c5685-2c9c-4a6c-8c50-a72a8d278e57",
   "metadata": {},
   "source": [
    "### load a column profile of static energy and plot"
   ]
  },
  {
   "cell_type": "code",
   "execution_count": null,
   "id": "b7cc7673-5085-488f-8b87-d6eba16dd7c4",
   "metadata": {
    "tags": []
   },
   "outputs": [],
   "source": [
    "indx = zin.attrs[igroup + \"_variable_index_map\"][invarname]\n",
    "it = 9 #time index\n",
    "ix =200 #x index\n",
    "iy =200 #y index\n"
   ]
  },
  {
   "cell_type": "code",
   "execution_count": null,
   "id": "18f29499-0f7e-4f50-b33e-f3e2a2621745",
   "metadata": {
    "tags": []
   },
   "outputs": [],
   "source": [
    "invar = zin[igroup][indx,it,ix,iy,:]\n",
    "iunits = vardic['ScalarState_units'][invarname]\n",
    "lname = vardic['ScalarState_long_names'][invarname]\n"
   ]
  },
  {
   "cell_type": "code",
   "execution_count": null,
   "id": "4e0e4f42-0898-4a45-8906-7aea1f3f42f0",
   "metadata": {
    "tags": []
   },
   "outputs": [],
   "source": [
    "\n",
    "_=plt.plot(invar,Z)\n",
    "_=plt.xlabel(lname + ' (' + iunits + ')') #is the units for s correct?\n",
    "_=plt.ylabel('height above the surface (m)')\n",
    "_=plt.title(invarname + ' profile at indices of x = ' + str(ix) + ', y = ' + str(iy) + ', time = ' + str(it))\n"
   ]
  },
  {
   "cell_type": "markdown",
   "id": "6264e73a-ab22-499b-b799-7740483b6d5e",
   "metadata": {},
   "source": [
    "#### Check restart-related information"
   ]
  },
  {
   "cell_type": "code",
   "execution_count": null,
   "id": "f6042d64-073b-46cf-bf90-c37093999628",
   "metadata": {},
   "outputs": [],
   "source": [
    "# zin[\"restart_info\"]['MicroBase']['RAINNC'].info\n",
    "\n",
    "\n",
    "# zin[\"restart_info\"]['TimeSteppingController'].info\n",
    "\n",
    "\n",
    "# zin[\"restart_info\"]['TimeSteppingController']['_time'].info\n",
    "\n",
    "\n",
    "# zin[\"restart_info\"]['TimeSteppingController']['_dt'].info\n",
    "\n",
    "\n",
    "# zin[\"restart_info\"]['MicroBase'].info\n",
    "\n",
    "\n",
    "# zin[\"restart_info\"]['MicroBase']['_itimestep'].info\n"
   ]
  },
  {
   "cell_type": "code",
   "execution_count": null,
   "id": "32a7f68d-d282-4cb7-84f7-ba166ff8c379",
   "metadata": {},
   "outputs": [],
   "source": []
  }
 ],
 "metadata": {
  "kernelspec": {
   "display_name": "pinacles_nersc",
   "language": "python",
   "name": "pinacles_nersc"
  },
  "language_info": {
   "codemirror_mode": {
    "name": "ipython",
    "version": 3
   },
   "file_extension": ".py",
   "mimetype": "text/x-python",
   "name": "python",
   "nbconvert_exporter": "python",
   "pygments_lexer": "ipython3",
   "version": "3.11.7"
  }
 },
 "nbformat": 4,
 "nbformat_minor": 5
}
